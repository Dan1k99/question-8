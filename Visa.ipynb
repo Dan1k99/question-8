{
 "cells": [
  {
   "cell_type": "code",
   "execution_count": 18,
   "id": "initial_id",
   "metadata": {
    "ExecuteTime": {
     "end_time": "2025-01-19T13:36:06.645308Z",
     "start_time": "2025-01-19T13:36:06.632610Z"
    },
    "collapsed": true,
    "jupyter": {
     "outputs_hidden": true
    }
   },
   "outputs": [],
   "source": [
    "import difflib  # For fuzzy matching (80% similarity)\n",
    "from metaphone import doublemetaphone  # For phonetic matching (sounds like)\n",
    "\n",
    "# Step 1: Define a mapping of standardized city names with unique identifiers\n",
    "city_mapping = {\n",
    "    \"תל אביב\": {\n",
    "        \"variations\": [\"תל-אביב\", \"תל אביב\", \"tel-aviv\", \"tel aviv\", \"תל אביב 00\" ,\"יפו\", \"jafa\", \"jaffa\", \"יפו 00\"],\n",
    "        \"code\": 111\n",
    "},\n",
    "    \"ירושלים\": {\n",
    "        \"variations\": [\"ירושלים\", \"jerusalem\", \"yerusalem\", \"ירושלים 00\"],\n",
    "        \"code\": 112\n",
    "    },\n",
    "    \"חיפה\": {\n",
    "        \"variations\": [\"חיפה\", \"haifa\", \"hifa\", \"חיפה 00\"],\n",
    "        \"code\": 113\n",
    "    }\n",
    "}"
   ]
  },
  {
   "cell_type": "code",
   "execution_count": 19,
   "id": "3fed7a32d8a0269b",
   "metadata": {
    "ExecuteTime": {
     "end_time": "2025-01-19T13:36:06.675321Z",
     "start_time": "2025-01-19T13:36:06.654315Z"
    }
   },
   "outputs": [],
   "source": [
    "# Step 2: Function to preprocess city names\n",
    "def preprocess_city_name(city_name):\n",
    "    # Remove extra spaces and special characters\n",
    "    city_name = city_name.strip().replace(\"-\", \" \").replace(\"'\", \"\").replace('\"', \"\").lower()\n",
    "    # Return the cleaned name\n",
    "    return city_name"
   ]
  },
  {
   "cell_type": "code",
   "execution_count": 20,
   "id": "6d2ad2dff2e468f4",
   "metadata": {
    "ExecuteTime": {
     "end_time": "2025-01-19T13:36:06.705918Z",
     "start_time": "2025-01-19T13:36:06.692890Z"
    }
   },
   "outputs": [],
   "source": [
    "# Step 3: Function to check for fuzzy match (80% similarity)\n",
    "def fuzzy_match(city_name, city_list):\n",
    "    # Use difflib to find the best match with a similarity ratio\n",
    "    closest_match = difflib.get_close_matches(city_name, city_list, n=1, cutoff=0.8)\n",
    "    return closest_match[0] if closest_match else None"
   ]
  },
  {
   "cell_type": "code",
   "execution_count": 21,
   "id": "7722236347e3b97c",
   "metadata": {
    "ExecuteTime": {
     "end_time": "2025-01-19T13:36:06.737455Z",
     "start_time": "2025-01-19T13:36:06.724455Z"
    }
   },
   "outputs": [],
   "source": [
    "# Step 4: Extract all variations into a flattened list (for fuzzy matching)\n",
    "def get_all_variations():\n",
    "    variations = []\n",
    "    for data in city_mapping.values():\n",
    "        variations.extend(data[\"variations\"])\n",
    "    return variations"
   ]
  },
  {
   "cell_type": "code",
   "execution_count": 22,
   "id": "5b684386de0b39c5",
   "metadata": {
    "ExecuteTime": {
     "end_time": "2025-01-19T13:36:06.768624Z",
     "start_time": "2025-01-19T13:36:06.756607Z"
    }
   },
   "outputs": [],
   "source": [
    "# Step 5: Function to normalize city names\n",
    "def normalize_city(city_name):\n",
    "    # Preprocess the input city name\n",
    "    city_name = preprocess_city_name(city_name)\n",
    "\n",
    "    # First, check for exact matches in the mapping\n",
    "    for standard_city, data in city_mapping.items():\n",
    "        if city_name in [preprocess_city_name(var) for var in data[\"variations\"]]:\n",
    "            return standard_city, data[\"code\"]  # Return the standardized city name and code\n",
    "\n",
    "    # If no exact match, try fuzzy matching\n",
    "    all_variations = [preprocess_city_name(var) for var in get_all_variations()]\n",
    "    fuzzy_match_result = fuzzy_match(city_name, all_variations)\n",
    "    if fuzzy_match_result:\n",
    "        # Find the corresponding standard city for the fuzzy match\n",
    "        for standard_city, data in city_mapping.items():\n",
    "            if fuzzy_match_result in [preprocess_city_name(var) for var in data[\"variations\"]]:\n",
    "                return standard_city, data[\"code\"]\n",
    "\n",
    "    # If no fuzzy match, try phonetic matching\n",
    "    city_phonetic = doublemetaphone(city_name)[0]  # Get the primary phonetic code\n",
    "    for standard_city, data in city_mapping.items():\n",
    "        for var in data[\"variations\"]:\n",
    "            if city_phonetic == doublemetaphone(preprocess_city_name(var))[0]:\n",
    "                return standard_city, data[\"code\"]\n",
    "\n",
    "    # If no match found, return \"Unknown\" with code -1\n",
    "    return \"Unknown\", -1"
   ]
  },
  {
   "cell_type": "code",
   "execution_count": 23,
   "id": "deb747186df5a808",
   "metadata": {
    "ExecuteTime": {
     "end_time": "2025-01-19T13:36:06.799442Z",
     "start_time": "2025-01-19T13:36:06.789133Z"
    }
   },
   "outputs": [
    {
     "name": "stdout",
     "output_type": "stream",
     "text": [
      "Original: תל-אביב -> Normalized: תל אביב, Code: 111\n",
      "Original: תל אביב 00 -> Normalized: תל אביב, Code: 111\n",
      "Original: tel-aviv -> Normalized: תל אביב, Code: 111\n",
      "Original: jafa -> Normalized: תל אביב, Code: 111\n",
      "Original: יפו -> Normalized: תל אביב, Code: 111\n",
      "Original: טל אביב -> Normalized: תל אביב, Code: 111\n",
      "Original: tel-avib -> Normalized: תל אביב, Code: 111\n",
      "Original: ירושלים -> Normalized: ירושלים, Code: 112\n",
      "Original: חיפה -> Normalized: חיפה, Code: 113\n",
      "Original: hifa -> Normalized: חיפה, Code: 113\n",
      "Original: yerusalem -> Normalized: ירושלים, Code: 112\n"
     ]
    }
   ],
   "source": [
    "# Step 6: Normalize a list of city names\n",
    "input_cities = [\"תל-אביב\", \"תל אביב 00\", \"tel-aviv\", \"jafa\", \"יפו\", \"טל אביב\", \"tel-avib\", \"ירושלים\", \"חיפה\", \"hifa\", \"yerusalem\"]\n",
    "normalized_cities = [(city, *normalize_city(city)) for city in input_cities]\n",
    "\n",
    "# Step 7: Print the results\n",
    "for original, normalized, code in normalized_cities:\n",
    "    print(f\"Original: {original} -> Normalized: {normalized}, Code: {code}\")"
   ]
  }
 ],
 "metadata": {
  "kernelspec": {
   "display_name": "Python 3 (ipykernel)",
   "language": "python",
   "name": "python3"
  },
  "language_info": {
   "codemirror_mode": {
    "name": "ipython",
    "version": 3
   },
   "file_extension": ".py",
   "mimetype": "text/x-python",
   "name": "python",
   "nbconvert_exporter": "python",
   "pygments_lexer": "ipython3",
   "version": "3.9.13"
  }
 },
 "nbformat": 4,
 "nbformat_minor": 5
}
